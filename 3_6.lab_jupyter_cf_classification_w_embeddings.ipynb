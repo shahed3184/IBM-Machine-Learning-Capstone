{
 "cells": [
  {
   "cell_type": "markdown",
   "id": "77c3c9f7-6f78-4886-a1a1-cbee299cbc28",
   "metadata": {},
   "source": [
    "# **Classification-based Rating Mode Prediction using Embedding Features**\n"
   ]
  },
  {
   "cell_type": "markdown",
   "id": "0ff62941-6e01-4746-b646-8949036e4688",
   "metadata": {},
   "source": [
    "Estimated time needed: **60** minutes\n"
   ]
  },
  {
   "cell_type": "markdown",
   "id": "24caf137-3918-4e70-9842-5d2e34969a9c",
   "metadata": {},
   "source": [
    "In this lab, you have built regression models to predict numerical course ratings using the embedding feature vectors extracted from neural networks. We can also consider the prediction problem as a classification problem also using embedding features.\n"
   ]
  },
  {
   "cell_type": "markdown",
   "id": "bbc6f222-1365-4e4d-8baf-2407f75b0124",
   "metadata": {},
   "source": [
    "![](https://cf-courses-data.s3.us.cloud-object-storage.appdomain.cloud/IBM-ML321EN-SkillsNetwork/labs/module_4/images/rating_classification.png)\n"
   ]
  },
  {
   "cell_type": "markdown",
   "id": "4cf92c76-fdfa-4ed1-ac95-dc7f33f30a86",
   "metadata": {},
   "source": [
    "The workflow is very similar to our previous lab. We first extract two embedding matrices out of the neural network, and aggregate them to be a single interaction feature vector as input data `X`.\n",
    "\n",
    "This time, with the interaction label `Y` as categorical rating mode, we can build classification models to approximate the mapping from `X` to `Y`, as shown in the above flowchart.\n"
   ]
  },
  {
   "cell_type": "markdown",
   "id": "15a07568-4b9f-41f2-aa51-8a60b35b868f",
   "metadata": {},
   "source": [
    "## Objectives\n"
   ]
  },
  {
   "cell_type": "markdown",
   "id": "a810c793-9ca2-4ec9-9af0-b68c399281b1",
   "metadata": {},
   "source": [
    "After completing this lab you will be able to:\n"
   ]
  },
  {
   "cell_type": "markdown",
   "id": "a5ac1c7d-814c-4f00-9330-6123f5ec51ad",
   "metadata": {},
   "source": [
    "* Build classification models to predict rating modes using the combined embedding vectors\n"
   ]
  },
  {
   "cell_type": "markdown",
   "id": "ec69acb6-7653-4075-bc8b-c50eaf98707e",
   "metadata": {},
   "source": [
    "----\n"
   ]
  },
  {
   "cell_type": "markdown",
   "id": "5206e54b-9e9c-42ce-a0e0-4c94e577c51e",
   "metadata": {},
   "source": [
    "## Prepare and setup lab environment\n"
   ]
  },
  {
   "cell_type": "markdown",
   "id": "feeea984-8a32-4a80-900e-52eb7f83ba0c",
   "metadata": {},
   "source": [
    "First install and import required libraries:\n"
   ]
  },
  {
   "cell_type": "code",
   "execution_count": 1,
   "id": "0432790c-f4c5-456e-93f6-40888bc599a5",
   "metadata": {},
   "outputs": [
    {
     "name": "stdout",
     "output_type": "stream",
     "text": [
      "Requirement already satisfied: scikit-learn in ./miniconda3/envs/shahed3128/lib/python3.12/site-packages (1.7.0)\n",
      "Requirement already satisfied: numpy>=1.22.0 in ./miniconda3/envs/shahed3128/lib/python3.12/site-packages (from scikit-learn) (1.26.4)\n",
      "Requirement already satisfied: scipy>=1.8.0 in ./miniconda3/envs/shahed3128/lib/python3.12/site-packages (from scikit-learn) (1.13.1)\n",
      "Requirement already satisfied: joblib>=1.2.0 in ./miniconda3/envs/shahed3128/lib/python3.12/site-packages (from scikit-learn) (1.5.1)\n",
      "Requirement already satisfied: threadpoolctl>=3.1.0 in ./miniconda3/envs/shahed3128/lib/python3.12/site-packages (from scikit-learn) (3.6.0)\n",
      "Note: you may need to restart the kernel to use updated packages.\n",
      "Requirement already satisfied: pandas in ./miniconda3/envs/shahed3128/lib/python3.12/site-packages (2.3.1)\n",
      "Requirement already satisfied: numpy>=1.26.0 in ./miniconda3/envs/shahed3128/lib/python3.12/site-packages (from pandas) (1.26.4)\n",
      "Requirement already satisfied: python-dateutil>=2.8.2 in ./miniconda3/envs/shahed3128/lib/python3.12/site-packages (from pandas) (2.9.0.post0)\n",
      "Requirement already satisfied: pytz>=2020.1 in ./miniconda3/envs/shahed3128/lib/python3.12/site-packages (from pandas) (2025.2)\n",
      "Requirement already satisfied: tzdata>=2022.7 in ./miniconda3/envs/shahed3128/lib/python3.12/site-packages (from pandas) (2025.2)\n",
      "Requirement already satisfied: six>=1.5 in ./miniconda3/envs/shahed3128/lib/python3.12/site-packages (from python-dateutil>=2.8.2->pandas) (1.17.0)\n",
      "Note: you may need to restart the kernel to use updated packages.\n"
     ]
    }
   ],
   "source": [
    "%pip install scikit-learn\n",
    "%pip install pandas"
   ]
  },
  {
   "cell_type": "code",
   "execution_count": 2,
   "id": "7250785f-fc17-4a57-b806-53b0974448a5",
   "metadata": {},
   "outputs": [],
   "source": [
    "# also set a random state\n",
    "rs = 123"
   ]
  },
  {
   "cell_type": "code",
   "execution_count": 3,
   "id": "78399b13-6491-4c9d-bede-2932ac726652",
   "metadata": {},
   "outputs": [],
   "source": [
    "import pandas as pd\n",
    "from sklearn.model_selection import train_test_split\n",
    "from sklearn.preprocessing import LabelEncoder\n",
    "from sklearn.metrics import accuracy_score, precision_recall_fscore_support\n",
    "from sklearn.linear_model import LogisticRegression\n",
    "from sklearn.ensemble import RandomForestClassifier"
   ]
  },
  {
   "cell_type": "markdown",
   "id": "56b3990b-5d85-43d7-ad35-43b622d9d2c1",
   "metadata": {},
   "source": [
    "### Load datasets\n"
   ]
  },
  {
   "cell_type": "code",
   "execution_count": 4,
   "id": "a8880e1a-0baa-4ce9-9568-087aaf808dcb",
   "metadata": {},
   "outputs": [],
   "source": [
    "rating_url = \"https://cf-courses-data.s3.us.cloud-object-storage.appdomain.cloud/IBMSkillsNetwork-ML0321EN-Coursera/labs/v2/module_3/ratings.csv\"\n",
    "user_emb_url = \"https://cf-courses-data.s3.us.cloud-object-storage.appdomain.cloud/IBM-ML321EN-SkillsNetwork/labs/datasets/user_embeddings.csv\"\n",
    "item_emb_url = \"https://cf-courses-data.s3.us.cloud-object-storage.appdomain.cloud/IBM-ML321EN-SkillsNetwork/labs/datasets/course_embeddings.csv\""
   ]
  },
  {
   "cell_type": "markdown",
   "id": "fbbf5f25-5884-40a3-b29c-1a25ce46716f",
   "metadata": {},
   "source": [
    "The first dataset is the rating dataset contains user-item interaction matrix\n"
   ]
  },
  {
   "cell_type": "code",
   "execution_count": 5,
   "id": "ef273e8b-87ed-49ce-af66-67ab3966c7fa",
   "metadata": {},
   "outputs": [],
   "source": [
    "rating_df = pd.read_csv(rating_url)"
   ]
  },
  {
   "cell_type": "code",
   "execution_count": 6,
   "id": "7dd0ab63-f9fb-48aa-af92-984f3db0bf8d",
   "metadata": {},
   "outputs": [
    {
     "data": {
      "application/vnd.microsoft.datawrangler.viewer.v0+json": {
       "columns": [
        {
         "name": "index",
         "rawType": "int64",
         "type": "integer"
        },
        {
         "name": "user",
         "rawType": "int64",
         "type": "integer"
        },
        {
         "name": "item",
         "rawType": "object",
         "type": "string"
        },
        {
         "name": "rating",
         "rawType": "int64",
         "type": "integer"
        }
       ],
       "ref": "7fbcd292-59de-45e3-aae7-cfc9043fff55",
       "rows": [
        [
         "0",
         "1889878",
         "CC0101EN",
         "5"
        ],
        [
         "1",
         "1342067",
         "CL0101EN",
         "3"
        ],
        [
         "2",
         "1990814",
         "ML0120ENv3",
         "5"
        ],
        [
         "3",
         "380098",
         "BD0211EN",
         "5"
        ],
        [
         "4",
         "779563",
         "DS0101EN",
         "3"
        ]
       ],
       "shape": {
        "columns": 3,
        "rows": 5
       }
      },
      "text/html": [
       "<div>\n",
       "<style scoped>\n",
       "    .dataframe tbody tr th:only-of-type {\n",
       "        vertical-align: middle;\n",
       "    }\n",
       "\n",
       "    .dataframe tbody tr th {\n",
       "        vertical-align: top;\n",
       "    }\n",
       "\n",
       "    .dataframe thead th {\n",
       "        text-align: right;\n",
       "    }\n",
       "</style>\n",
       "<table border=\"1\" class=\"dataframe\">\n",
       "  <thead>\n",
       "    <tr style=\"text-align: right;\">\n",
       "      <th></th>\n",
       "      <th>user</th>\n",
       "      <th>item</th>\n",
       "      <th>rating</th>\n",
       "    </tr>\n",
       "  </thead>\n",
       "  <tbody>\n",
       "    <tr>\n",
       "      <th>0</th>\n",
       "      <td>1889878</td>\n",
       "      <td>CC0101EN</td>\n",
       "      <td>5</td>\n",
       "    </tr>\n",
       "    <tr>\n",
       "      <th>1</th>\n",
       "      <td>1342067</td>\n",
       "      <td>CL0101EN</td>\n",
       "      <td>3</td>\n",
       "    </tr>\n",
       "    <tr>\n",
       "      <th>2</th>\n",
       "      <td>1990814</td>\n",
       "      <td>ML0120ENv3</td>\n",
       "      <td>5</td>\n",
       "    </tr>\n",
       "    <tr>\n",
       "      <th>3</th>\n",
       "      <td>380098</td>\n",
       "      <td>BD0211EN</td>\n",
       "      <td>5</td>\n",
       "    </tr>\n",
       "    <tr>\n",
       "      <th>4</th>\n",
       "      <td>779563</td>\n",
       "      <td>DS0101EN</td>\n",
       "      <td>3</td>\n",
       "    </tr>\n",
       "  </tbody>\n",
       "</table>\n",
       "</div>"
      ],
      "text/plain": [
       "      user        item  rating\n",
       "0  1889878    CC0101EN       5\n",
       "1  1342067    CL0101EN       3\n",
       "2  1990814  ML0120ENv3       5\n",
       "3   380098    BD0211EN       5\n",
       "4   779563    DS0101EN       3"
      ]
     },
     "execution_count": 6,
     "metadata": {},
     "output_type": "execute_result"
    }
   ],
   "source": [
    "rating_df.head()"
   ]
  },
  {
   "cell_type": "markdown",
   "id": "fe362655-768e-4a4f-a074-573018d74cfe",
   "metadata": {},
   "source": [
    "As you can see from the above data, the user and item are just ids, let's substitute them with their embedding vectors\n"
   ]
  },
  {
   "cell_type": "code",
   "execution_count": 7,
   "id": "fc88e93c-0fee-4568-a6f7-33202d94f0aa",
   "metadata": {},
   "outputs": [],
   "source": [
    "user_emb = pd.read_csv(user_emb_url)\n",
    "item_emb = pd.read_csv(item_emb_url)"
   ]
  },
  {
   "cell_type": "code",
   "execution_count": 8,
   "id": "25813676-117a-47ac-8882-b5b7ce1d0dae",
   "metadata": {},
   "outputs": [
    {
     "data": {
      "application/vnd.microsoft.datawrangler.viewer.v0+json": {
       "columns": [
        {
         "name": "index",
         "rawType": "int64",
         "type": "integer"
        },
        {
         "name": "user",
         "rawType": "int64",
         "type": "integer"
        },
        {
         "name": "UFeature0",
         "rawType": "float64",
         "type": "float"
        },
        {
         "name": "UFeature1",
         "rawType": "float64",
         "type": "float"
        },
        {
         "name": "UFeature2",
         "rawType": "float64",
         "type": "float"
        },
        {
         "name": "UFeature3",
         "rawType": "float64",
         "type": "float"
        },
        {
         "name": "UFeature4",
         "rawType": "float64",
         "type": "float"
        },
        {
         "name": "UFeature5",
         "rawType": "float64",
         "type": "float"
        },
        {
         "name": "UFeature6",
         "rawType": "float64",
         "type": "float"
        },
        {
         "name": "UFeature7",
         "rawType": "float64",
         "type": "float"
        },
        {
         "name": "UFeature8",
         "rawType": "float64",
         "type": "float"
        },
        {
         "name": "UFeature9",
         "rawType": "float64",
         "type": "float"
        },
        {
         "name": "UFeature10",
         "rawType": "float64",
         "type": "float"
        },
        {
         "name": "UFeature11",
         "rawType": "float64",
         "type": "float"
        },
        {
         "name": "UFeature12",
         "rawType": "float64",
         "type": "float"
        },
        {
         "name": "UFeature13",
         "rawType": "float64",
         "type": "float"
        },
        {
         "name": "UFeature14",
         "rawType": "float64",
         "type": "float"
        },
        {
         "name": "UFeature15",
         "rawType": "float64",
         "type": "float"
        }
       ],
       "ref": "bec74d1b-ad6d-41f5-bb94-49aeb2a1a7cd",
       "rows": [
        [
         "0",
         "1889878",
         "0.08072079",
         "-0.12956072",
         "0.08799795",
         "0.030230962",
         "0.082690515",
         "-0.00417625",
         "-0.0034800558",
         "0.09146445",
         "-0.040246736",
         "0.01895804",
         "-0.15332754",
         "-0.090142876",
         "0.08283031",
         "-0.058720913",
         "0.057928737",
         "-0.0014717497"
        ],
        [
         "1",
         "1342067",
         "0.06804716",
         "-0.11278068",
         "0.04520805",
         "-0.0075704553",
         "-0.03838196",
         "0.06803743",
         "0.11494865",
         "0.104127556",
         "-0.0344014",
         "0.0040107258",
         "0.06483172",
         "0.16585675",
         "-0.0043842066",
         "0.053256903",
         "0.014307614",
         "0.05668419"
        ],
        [
         "2",
         "1990814",
         "0.1246226",
         "0.012909805",
         "-0.07262747",
         "0.049935114",
         "0.020157756",
         "0.13330609",
         "-0.035366006",
         "-0.15602642",
         "0.039268598",
         "0.042195264",
         "0.014694762",
         "-0.11598876",
         "0.031157661",
         "0.10202052",
         "-0.020601131",
         "0.11648802"
        ],
        [
         "3",
         "380098",
         "-0.034869947",
         "0.00071477605",
         "0.07740616",
         "0.07031118",
         "-0.043006547",
         "-0.035445623",
         "0.032846186",
         "-0.060944237",
         "0.11238449",
         "0.0021142089",
         "0.090659626",
         "-0.06854471",
         "0.008967031",
         "0.06396228",
         "0.052347314",
         "0.018071635"
        ],
        [
         "4",
         "779563",
         "0.10641394",
         "-0.0018869705",
         "-0.017211491",
         "-0.042276684",
         "-0.07495311",
         "-0.056731746",
         "0.07460996",
         "-0.019366736",
         "-0.03134081",
         "0.06489616",
         "-0.048158",
         "-0.047309104",
         "-0.0075436793",
         "0.010474117",
         "-0.032287307",
         "-0.08398336"
        ]
       ],
       "shape": {
        "columns": 17,
        "rows": 5
       }
      },
      "text/html": [
       "<div>\n",
       "<style scoped>\n",
       "    .dataframe tbody tr th:only-of-type {\n",
       "        vertical-align: middle;\n",
       "    }\n",
       "\n",
       "    .dataframe tbody tr th {\n",
       "        vertical-align: top;\n",
       "    }\n",
       "\n",
       "    .dataframe thead th {\n",
       "        text-align: right;\n",
       "    }\n",
       "</style>\n",
       "<table border=\"1\" class=\"dataframe\">\n",
       "  <thead>\n",
       "    <tr style=\"text-align: right;\">\n",
       "      <th></th>\n",
       "      <th>user</th>\n",
       "      <th>UFeature0</th>\n",
       "      <th>UFeature1</th>\n",
       "      <th>UFeature2</th>\n",
       "      <th>UFeature3</th>\n",
       "      <th>UFeature4</th>\n",
       "      <th>UFeature5</th>\n",
       "      <th>UFeature6</th>\n",
       "      <th>UFeature7</th>\n",
       "      <th>UFeature8</th>\n",
       "      <th>UFeature9</th>\n",
       "      <th>UFeature10</th>\n",
       "      <th>UFeature11</th>\n",
       "      <th>UFeature12</th>\n",
       "      <th>UFeature13</th>\n",
       "      <th>UFeature14</th>\n",
       "      <th>UFeature15</th>\n",
       "    </tr>\n",
       "  </thead>\n",
       "  <tbody>\n",
       "    <tr>\n",
       "      <th>0</th>\n",
       "      <td>1889878</td>\n",
       "      <td>0.080721</td>\n",
       "      <td>-0.129561</td>\n",
       "      <td>0.087998</td>\n",
       "      <td>0.030231</td>\n",
       "      <td>0.082691</td>\n",
       "      <td>-0.004176</td>\n",
       "      <td>-0.003480</td>\n",
       "      <td>0.091464</td>\n",
       "      <td>-0.040247</td>\n",
       "      <td>0.018958</td>\n",
       "      <td>-0.153328</td>\n",
       "      <td>-0.090143</td>\n",
       "      <td>0.082830</td>\n",
       "      <td>-0.058721</td>\n",
       "      <td>0.057929</td>\n",
       "      <td>-0.001472</td>\n",
       "    </tr>\n",
       "    <tr>\n",
       "      <th>1</th>\n",
       "      <td>1342067</td>\n",
       "      <td>0.068047</td>\n",
       "      <td>-0.112781</td>\n",
       "      <td>0.045208</td>\n",
       "      <td>-0.007570</td>\n",
       "      <td>-0.038382</td>\n",
       "      <td>0.068037</td>\n",
       "      <td>0.114949</td>\n",
       "      <td>0.104128</td>\n",
       "      <td>-0.034401</td>\n",
       "      <td>0.004011</td>\n",
       "      <td>0.064832</td>\n",
       "      <td>0.165857</td>\n",
       "      <td>-0.004384</td>\n",
       "      <td>0.053257</td>\n",
       "      <td>0.014308</td>\n",
       "      <td>0.056684</td>\n",
       "    </tr>\n",
       "    <tr>\n",
       "      <th>2</th>\n",
       "      <td>1990814</td>\n",
       "      <td>0.124623</td>\n",
       "      <td>0.012910</td>\n",
       "      <td>-0.072627</td>\n",
       "      <td>0.049935</td>\n",
       "      <td>0.020158</td>\n",
       "      <td>0.133306</td>\n",
       "      <td>-0.035366</td>\n",
       "      <td>-0.156026</td>\n",
       "      <td>0.039269</td>\n",
       "      <td>0.042195</td>\n",
       "      <td>0.014695</td>\n",
       "      <td>-0.115989</td>\n",
       "      <td>0.031158</td>\n",
       "      <td>0.102021</td>\n",
       "      <td>-0.020601</td>\n",
       "      <td>0.116488</td>\n",
       "    </tr>\n",
       "    <tr>\n",
       "      <th>3</th>\n",
       "      <td>380098</td>\n",
       "      <td>-0.034870</td>\n",
       "      <td>0.000715</td>\n",
       "      <td>0.077406</td>\n",
       "      <td>0.070311</td>\n",
       "      <td>-0.043007</td>\n",
       "      <td>-0.035446</td>\n",
       "      <td>0.032846</td>\n",
       "      <td>-0.060944</td>\n",
       "      <td>0.112384</td>\n",
       "      <td>0.002114</td>\n",
       "      <td>0.090660</td>\n",
       "      <td>-0.068545</td>\n",
       "      <td>0.008967</td>\n",
       "      <td>0.063962</td>\n",
       "      <td>0.052347</td>\n",
       "      <td>0.018072</td>\n",
       "    </tr>\n",
       "    <tr>\n",
       "      <th>4</th>\n",
       "      <td>779563</td>\n",
       "      <td>0.106414</td>\n",
       "      <td>-0.001887</td>\n",
       "      <td>-0.017211</td>\n",
       "      <td>-0.042277</td>\n",
       "      <td>-0.074953</td>\n",
       "      <td>-0.056732</td>\n",
       "      <td>0.074610</td>\n",
       "      <td>-0.019367</td>\n",
       "      <td>-0.031341</td>\n",
       "      <td>0.064896</td>\n",
       "      <td>-0.048158</td>\n",
       "      <td>-0.047309</td>\n",
       "      <td>-0.007544</td>\n",
       "      <td>0.010474</td>\n",
       "      <td>-0.032287</td>\n",
       "      <td>-0.083983</td>\n",
       "    </tr>\n",
       "  </tbody>\n",
       "</table>\n",
       "</div>"
      ],
      "text/plain": [
       "      user  UFeature0  UFeature1  UFeature2  UFeature3  UFeature4  UFeature5  \\\n",
       "0  1889878   0.080721  -0.129561   0.087998   0.030231   0.082691  -0.004176   \n",
       "1  1342067   0.068047  -0.112781   0.045208  -0.007570  -0.038382   0.068037   \n",
       "2  1990814   0.124623   0.012910  -0.072627   0.049935   0.020158   0.133306   \n",
       "3   380098  -0.034870   0.000715   0.077406   0.070311  -0.043007  -0.035446   \n",
       "4   779563   0.106414  -0.001887  -0.017211  -0.042277  -0.074953  -0.056732   \n",
       "\n",
       "   UFeature6  UFeature7  UFeature8  UFeature9  UFeature10  UFeature11  \\\n",
       "0  -0.003480   0.091464  -0.040247   0.018958   -0.153328   -0.090143   \n",
       "1   0.114949   0.104128  -0.034401   0.004011    0.064832    0.165857   \n",
       "2  -0.035366  -0.156026   0.039269   0.042195    0.014695   -0.115989   \n",
       "3   0.032846  -0.060944   0.112384   0.002114    0.090660   -0.068545   \n",
       "4   0.074610  -0.019367  -0.031341   0.064896   -0.048158   -0.047309   \n",
       "\n",
       "   UFeature12  UFeature13  UFeature14  UFeature15  \n",
       "0    0.082830   -0.058721    0.057929   -0.001472  \n",
       "1   -0.004384    0.053257    0.014308    0.056684  \n",
       "2    0.031158    0.102021   -0.020601    0.116488  \n",
       "3    0.008967    0.063962    0.052347    0.018072  \n",
       "4   -0.007544    0.010474   -0.032287   -0.083983  "
      ]
     },
     "execution_count": 8,
     "metadata": {},
     "output_type": "execute_result"
    }
   ],
   "source": [
    "user_emb.head()"
   ]
  },
  {
   "cell_type": "code",
   "execution_count": 9,
   "id": "fade2903-f936-4de4-b5e6-c1c8c5c721e3",
   "metadata": {},
   "outputs": [
    {
     "data": {
      "application/vnd.microsoft.datawrangler.viewer.v0+json": {
       "columns": [
        {
         "name": "index",
         "rawType": "int64",
         "type": "integer"
        },
        {
         "name": "item",
         "rawType": "object",
         "type": "string"
        },
        {
         "name": "CFeature0",
         "rawType": "float64",
         "type": "float"
        },
        {
         "name": "CFeature1",
         "rawType": "float64",
         "type": "float"
        },
        {
         "name": "CFeature2",
         "rawType": "float64",
         "type": "float"
        },
        {
         "name": "CFeature3",
         "rawType": "float64",
         "type": "float"
        },
        {
         "name": "CFeature4",
         "rawType": "float64",
         "type": "float"
        },
        {
         "name": "CFeature5",
         "rawType": "float64",
         "type": "float"
        },
        {
         "name": "CFeature6",
         "rawType": "float64",
         "type": "float"
        },
        {
         "name": "CFeature7",
         "rawType": "float64",
         "type": "float"
        },
        {
         "name": "CFeature8",
         "rawType": "float64",
         "type": "float"
        },
        {
         "name": "CFeature9",
         "rawType": "float64",
         "type": "float"
        },
        {
         "name": "CFeature10",
         "rawType": "float64",
         "type": "float"
        },
        {
         "name": "CFeature11",
         "rawType": "float64",
         "type": "float"
        },
        {
         "name": "CFeature12",
         "rawType": "float64",
         "type": "float"
        },
        {
         "name": "CFeature13",
         "rawType": "float64",
         "type": "float"
        },
        {
         "name": "CFeature14",
         "rawType": "float64",
         "type": "float"
        },
        {
         "name": "CFeature15",
         "rawType": "float64",
         "type": "float"
        }
       ],
       "ref": "1637d685-1e40-4c15-b814-a80a883e1484",
       "rows": [
        [
         "0",
         "CC0101EN",
         "0.009656905",
         "-0.0052381186",
         "-0.0040980084",
         "0.016302861",
         "-0.005273606",
         "-0.00036093185",
         "-0.015081371",
         "-0.012228849",
         "0.015685743",
         "0.008401358",
         "-0.035495345",
         "0.009381307",
         "-0.03255956",
         "-0.0072919675",
         "0.0009655618",
         "-0.0062176026"
        ],
        [
         "1",
         "CL0101EN",
         "-0.008610552",
         "0.02804066",
         "0.02189897",
         "-0.0014653172",
         "0.006899842",
         "-0.01798075",
         "0.010898649",
         "-0.03761044",
         "-0.019396672",
         "-0.025681913",
         "-0.0006202129",
         "0.038802754",
         "0.00019615983",
         "-0.045342933",
         "0.012862647",
         "0.019429406"
        ],
        [
         "2",
         "ML0120ENv3",
         "0.027438855",
         "-0.027648883",
         "-0.007484106",
         "-0.059450775",
         "0.0039719683",
         "0.020495774",
         "-0.012695072",
         "0.036138263",
         "0.01996507",
         "0.018686274",
         "-0.010450379",
         "-0.050011102",
         "0.013844542",
         "-0.04445403",
         "-0.0014796761",
         "-0.0075588813"
        ],
        [
         "3",
         "BD0211EN",
         "0.020162847",
         "-0.011971799",
         "-0.003714157",
         "-0.015547965",
         "-0.007540023",
         "0.014846904",
         "-0.005699841",
         "-0.0060682236",
         "-0.0057918397",
         "-0.023035705",
         "0.015998555",
         "-0.02348004",
         "0.015469028",
         "0.022220554",
         "-0.023115093",
         "-0.0017846136"
        ],
        [
         "4",
         "DS0101EN",
         "0.006398517",
         "0.00049161847",
         "0.005639624",
         "0.009638563",
         "-0.0054873684",
         "-0.0005897415",
         "-0.010015093",
         "-0.001513755",
         "-0.017598072",
         "0.0035902918",
         "0.016798958",
         "0.002732148",
         "0.0051621804",
         "0.015030547",
         "-0.0008766575",
         "-0.0212826"
        ]
       ],
       "shape": {
        "columns": 17,
        "rows": 5
       }
      },
      "text/html": [
       "<div>\n",
       "<style scoped>\n",
       "    .dataframe tbody tr th:only-of-type {\n",
       "        vertical-align: middle;\n",
       "    }\n",
       "\n",
       "    .dataframe tbody tr th {\n",
       "        vertical-align: top;\n",
       "    }\n",
       "\n",
       "    .dataframe thead th {\n",
       "        text-align: right;\n",
       "    }\n",
       "</style>\n",
       "<table border=\"1\" class=\"dataframe\">\n",
       "  <thead>\n",
       "    <tr style=\"text-align: right;\">\n",
       "      <th></th>\n",
       "      <th>item</th>\n",
       "      <th>CFeature0</th>\n",
       "      <th>CFeature1</th>\n",
       "      <th>CFeature2</th>\n",
       "      <th>CFeature3</th>\n",
       "      <th>CFeature4</th>\n",
       "      <th>CFeature5</th>\n",
       "      <th>CFeature6</th>\n",
       "      <th>CFeature7</th>\n",
       "      <th>CFeature8</th>\n",
       "      <th>CFeature9</th>\n",
       "      <th>CFeature10</th>\n",
       "      <th>CFeature11</th>\n",
       "      <th>CFeature12</th>\n",
       "      <th>CFeature13</th>\n",
       "      <th>CFeature14</th>\n",
       "      <th>CFeature15</th>\n",
       "    </tr>\n",
       "  </thead>\n",
       "  <tbody>\n",
       "    <tr>\n",
       "      <th>0</th>\n",
       "      <td>CC0101EN</td>\n",
       "      <td>0.009657</td>\n",
       "      <td>-0.005238</td>\n",
       "      <td>-0.004098</td>\n",
       "      <td>0.016303</td>\n",
       "      <td>-0.005274</td>\n",
       "      <td>-0.000361</td>\n",
       "      <td>-0.015081</td>\n",
       "      <td>-0.012229</td>\n",
       "      <td>0.015686</td>\n",
       "      <td>0.008401</td>\n",
       "      <td>-0.035495</td>\n",
       "      <td>0.009381</td>\n",
       "      <td>-0.032560</td>\n",
       "      <td>-0.007292</td>\n",
       "      <td>0.000966</td>\n",
       "      <td>-0.006218</td>\n",
       "    </tr>\n",
       "    <tr>\n",
       "      <th>1</th>\n",
       "      <td>CL0101EN</td>\n",
       "      <td>-0.008611</td>\n",
       "      <td>0.028041</td>\n",
       "      <td>0.021899</td>\n",
       "      <td>-0.001465</td>\n",
       "      <td>0.006900</td>\n",
       "      <td>-0.017981</td>\n",
       "      <td>0.010899</td>\n",
       "      <td>-0.037610</td>\n",
       "      <td>-0.019397</td>\n",
       "      <td>-0.025682</td>\n",
       "      <td>-0.000620</td>\n",
       "      <td>0.038803</td>\n",
       "      <td>0.000196</td>\n",
       "      <td>-0.045343</td>\n",
       "      <td>0.012863</td>\n",
       "      <td>0.019429</td>\n",
       "    </tr>\n",
       "    <tr>\n",
       "      <th>2</th>\n",
       "      <td>ML0120ENv3</td>\n",
       "      <td>0.027439</td>\n",
       "      <td>-0.027649</td>\n",
       "      <td>-0.007484</td>\n",
       "      <td>-0.059451</td>\n",
       "      <td>0.003972</td>\n",
       "      <td>0.020496</td>\n",
       "      <td>-0.012695</td>\n",
       "      <td>0.036138</td>\n",
       "      <td>0.019965</td>\n",
       "      <td>0.018686</td>\n",
       "      <td>-0.010450</td>\n",
       "      <td>-0.050011</td>\n",
       "      <td>0.013845</td>\n",
       "      <td>-0.044454</td>\n",
       "      <td>-0.001480</td>\n",
       "      <td>-0.007559</td>\n",
       "    </tr>\n",
       "    <tr>\n",
       "      <th>3</th>\n",
       "      <td>BD0211EN</td>\n",
       "      <td>0.020163</td>\n",
       "      <td>-0.011972</td>\n",
       "      <td>-0.003714</td>\n",
       "      <td>-0.015548</td>\n",
       "      <td>-0.007540</td>\n",
       "      <td>0.014847</td>\n",
       "      <td>-0.005700</td>\n",
       "      <td>-0.006068</td>\n",
       "      <td>-0.005792</td>\n",
       "      <td>-0.023036</td>\n",
       "      <td>0.015999</td>\n",
       "      <td>-0.023480</td>\n",
       "      <td>0.015469</td>\n",
       "      <td>0.022221</td>\n",
       "      <td>-0.023115</td>\n",
       "      <td>-0.001785</td>\n",
       "    </tr>\n",
       "    <tr>\n",
       "      <th>4</th>\n",
       "      <td>DS0101EN</td>\n",
       "      <td>0.006399</td>\n",
       "      <td>0.000492</td>\n",
       "      <td>0.005640</td>\n",
       "      <td>0.009639</td>\n",
       "      <td>-0.005487</td>\n",
       "      <td>-0.000590</td>\n",
       "      <td>-0.010015</td>\n",
       "      <td>-0.001514</td>\n",
       "      <td>-0.017598</td>\n",
       "      <td>0.003590</td>\n",
       "      <td>0.016799</td>\n",
       "      <td>0.002732</td>\n",
       "      <td>0.005162</td>\n",
       "      <td>0.015031</td>\n",
       "      <td>-0.000877</td>\n",
       "      <td>-0.021283</td>\n",
       "    </tr>\n",
       "  </tbody>\n",
       "</table>\n",
       "</div>"
      ],
      "text/plain": [
       "         item  CFeature0  CFeature1  CFeature2  CFeature3  CFeature4  \\\n",
       "0    CC0101EN   0.009657  -0.005238  -0.004098   0.016303  -0.005274   \n",
       "1    CL0101EN  -0.008611   0.028041   0.021899  -0.001465   0.006900   \n",
       "2  ML0120ENv3   0.027439  -0.027649  -0.007484  -0.059451   0.003972   \n",
       "3    BD0211EN   0.020163  -0.011972  -0.003714  -0.015548  -0.007540   \n",
       "4    DS0101EN   0.006399   0.000492   0.005640   0.009639  -0.005487   \n",
       "\n",
       "   CFeature5  CFeature6  CFeature7  CFeature8  CFeature9  CFeature10  \\\n",
       "0  -0.000361  -0.015081  -0.012229   0.015686   0.008401   -0.035495   \n",
       "1  -0.017981   0.010899  -0.037610  -0.019397  -0.025682   -0.000620   \n",
       "2   0.020496  -0.012695   0.036138   0.019965   0.018686   -0.010450   \n",
       "3   0.014847  -0.005700  -0.006068  -0.005792  -0.023036    0.015999   \n",
       "4  -0.000590  -0.010015  -0.001514  -0.017598   0.003590    0.016799   \n",
       "\n",
       "   CFeature11  CFeature12  CFeature13  CFeature14  CFeature15  \n",
       "0    0.009381   -0.032560   -0.007292    0.000966   -0.006218  \n",
       "1    0.038803    0.000196   -0.045343    0.012863    0.019429  \n",
       "2   -0.050011    0.013845   -0.044454   -0.001480   -0.007559  \n",
       "3   -0.023480    0.015469    0.022221   -0.023115   -0.001785  \n",
       "4    0.002732    0.005162    0.015031   -0.000877   -0.021283  "
      ]
     },
     "execution_count": 9,
     "metadata": {},
     "output_type": "execute_result"
    }
   ],
   "source": [
    "item_emb.head()"
   ]
  },
  {
   "cell_type": "code",
   "execution_count": 10,
   "id": "1b960ad2-18f8-4dd5-b434-771764a3b21b",
   "metadata": {},
   "outputs": [],
   "source": [
    "# Merge user embedding features\n",
    "merged_df = pd.merge(rating_df, user_emb, how='left', left_on='user', right_on='user').fillna(0)\n",
    "# Merge course embedding features\n",
    "merged_df = pd.merge(merged_df, item_emb, how='left', left_on='item', right_on='item').fillna(0)"
   ]
  },
  {
   "cell_type": "code",
   "execution_count": 11,
   "id": "7d100008-1e87-4cbc-8940-38f0c486b1fc",
   "metadata": {},
   "outputs": [
    {
     "data": {
      "application/vnd.microsoft.datawrangler.viewer.v0+json": {
       "columns": [
        {
         "name": "index",
         "rawType": "int64",
         "type": "integer"
        },
        {
         "name": "user",
         "rawType": "int64",
         "type": "integer"
        },
        {
         "name": "item",
         "rawType": "object",
         "type": "string"
        },
        {
         "name": "rating",
         "rawType": "int64",
         "type": "integer"
        },
        {
         "name": "UFeature0",
         "rawType": "float64",
         "type": "float"
        },
        {
         "name": "UFeature1",
         "rawType": "float64",
         "type": "float"
        },
        {
         "name": "UFeature2",
         "rawType": "float64",
         "type": "float"
        },
        {
         "name": "UFeature3",
         "rawType": "float64",
         "type": "float"
        },
        {
         "name": "UFeature4",
         "rawType": "float64",
         "type": "float"
        },
        {
         "name": "UFeature5",
         "rawType": "float64",
         "type": "float"
        },
        {
         "name": "UFeature6",
         "rawType": "float64",
         "type": "float"
        },
        {
         "name": "UFeature7",
         "rawType": "float64",
         "type": "float"
        },
        {
         "name": "UFeature8",
         "rawType": "float64",
         "type": "float"
        },
        {
         "name": "UFeature9",
         "rawType": "float64",
         "type": "float"
        },
        {
         "name": "UFeature10",
         "rawType": "float64",
         "type": "float"
        },
        {
         "name": "UFeature11",
         "rawType": "float64",
         "type": "float"
        },
        {
         "name": "UFeature12",
         "rawType": "float64",
         "type": "float"
        },
        {
         "name": "UFeature13",
         "rawType": "float64",
         "type": "float"
        },
        {
         "name": "UFeature14",
         "rawType": "float64",
         "type": "float"
        },
        {
         "name": "UFeature15",
         "rawType": "float64",
         "type": "float"
        },
        {
         "name": "CFeature0",
         "rawType": "float64",
         "type": "float"
        },
        {
         "name": "CFeature1",
         "rawType": "float64",
         "type": "float"
        },
        {
         "name": "CFeature2",
         "rawType": "float64",
         "type": "float"
        },
        {
         "name": "CFeature3",
         "rawType": "float64",
         "type": "float"
        },
        {
         "name": "CFeature4",
         "rawType": "float64",
         "type": "float"
        },
        {
         "name": "CFeature5",
         "rawType": "float64",
         "type": "float"
        },
        {
         "name": "CFeature6",
         "rawType": "float64",
         "type": "float"
        },
        {
         "name": "CFeature7",
         "rawType": "float64",
         "type": "float"
        },
        {
         "name": "CFeature8",
         "rawType": "float64",
         "type": "float"
        },
        {
         "name": "CFeature9",
         "rawType": "float64",
         "type": "float"
        },
        {
         "name": "CFeature10",
         "rawType": "float64",
         "type": "float"
        },
        {
         "name": "CFeature11",
         "rawType": "float64",
         "type": "float"
        },
        {
         "name": "CFeature12",
         "rawType": "float64",
         "type": "float"
        },
        {
         "name": "CFeature13",
         "rawType": "float64",
         "type": "float"
        },
        {
         "name": "CFeature14",
         "rawType": "float64",
         "type": "float"
        },
        {
         "name": "CFeature15",
         "rawType": "float64",
         "type": "float"
        }
       ],
       "ref": "d1cabec2-4696-41a2-9963-923e5e4b5f37",
       "rows": [
        [
         "0",
         "1889878",
         "CC0101EN",
         "5",
         "0.08072079",
         "-0.12956072",
         "0.08799795",
         "0.030230962",
         "0.082690515",
         "-0.00417625",
         "-0.0034800558",
         "0.09146445",
         "-0.040246736",
         "0.01895804",
         "-0.15332754",
         "-0.090142876",
         "0.08283031",
         "-0.058720913",
         "0.057928737",
         "-0.0014717497",
         "0.009656905",
         "-0.0052381186",
         "-0.0040980084",
         "0.016302861",
         "-0.005273606",
         "-0.00036093185",
         "-0.015081371",
         "-0.012228849",
         "0.015685743",
         "0.008401358",
         "-0.035495345",
         "0.009381307",
         "-0.03255956",
         "-0.0072919675",
         "0.0009655618",
         "-0.0062176026"
        ],
        [
         "1",
         "1342067",
         "CL0101EN",
         "3",
         "0.06804716",
         "-0.11278068",
         "0.04520805",
         "-0.0075704553",
         "-0.03838196",
         "0.06803743",
         "0.11494865",
         "0.104127556",
         "-0.0344014",
         "0.0040107258",
         "0.06483172",
         "0.16585675",
         "-0.0043842066",
         "0.053256903",
         "0.014307614",
         "0.05668419",
         "-0.008610552",
         "0.02804066",
         "0.02189897",
         "-0.0014653172",
         "0.006899842",
         "-0.01798075",
         "0.010898649",
         "-0.03761044",
         "-0.019396672",
         "-0.025681913",
         "-0.0006202129",
         "0.038802754",
         "0.00019615983",
         "-0.045342933",
         "0.012862647",
         "0.019429406"
        ],
        [
         "2",
         "1990814",
         "ML0120ENv3",
         "5",
         "0.1246226",
         "0.012909805",
         "-0.07262747",
         "0.049935114",
         "0.020157756",
         "0.13330609",
         "-0.035366006",
         "-0.15602642",
         "0.039268598",
         "0.042195264",
         "0.014694762",
         "-0.11598876",
         "0.031157661",
         "0.10202052",
         "-0.020601131",
         "0.11648802",
         "0.027438855",
         "-0.027648883",
         "-0.007484106",
         "-0.059450775",
         "0.0039719683",
         "0.020495774",
         "-0.012695072",
         "0.036138263",
         "0.01996507",
         "0.018686274",
         "-0.010450379",
         "-0.050011102",
         "0.013844542",
         "-0.04445403",
         "-0.0014796761",
         "-0.0075588813"
        ],
        [
         "3",
         "380098",
         "BD0211EN",
         "5",
         "-0.034869947",
         "0.00071477605",
         "0.07740616",
         "0.07031118",
         "-0.043006547",
         "-0.035445623",
         "0.032846186",
         "-0.060944237",
         "0.11238449",
         "0.0021142089",
         "0.090659626",
         "-0.06854471",
         "0.008967031",
         "0.06396228",
         "0.052347314",
         "0.018071635",
         "0.020162847",
         "-0.011971799",
         "-0.003714157",
         "-0.015547965",
         "-0.007540023",
         "0.014846904",
         "-0.005699841",
         "-0.0060682236",
         "-0.0057918397",
         "-0.023035705",
         "0.015998555",
         "-0.02348004",
         "0.015469028",
         "0.022220554",
         "-0.023115093",
         "-0.0017846136"
        ],
        [
         "4",
         "779563",
         "DS0101EN",
         "3",
         "0.10641394",
         "-0.0018869705",
         "-0.017211491",
         "-0.042276684",
         "-0.07495311",
         "-0.056731746",
         "0.07460996",
         "-0.019366736",
         "-0.03134081",
         "0.06489616",
         "-0.048158",
         "-0.047309104",
         "-0.0075436793",
         "0.010474117",
         "-0.032287307",
         "-0.08398336",
         "0.006398517",
         "0.00049161847",
         "0.005639624",
         "0.009638563",
         "-0.0054873684",
         "-0.0005897415",
         "-0.010015093",
         "-0.001513755",
         "-0.017598072",
         "0.0035902918",
         "0.016798958",
         "0.002732148",
         "0.0051621804",
         "0.015030547",
         "-0.0008766575",
         "-0.0212826"
        ]
       ],
       "shape": {
        "columns": 35,
        "rows": 5
       }
      },
      "text/html": [
       "<div>\n",
       "<style scoped>\n",
       "    .dataframe tbody tr th:only-of-type {\n",
       "        vertical-align: middle;\n",
       "    }\n",
       "\n",
       "    .dataframe tbody tr th {\n",
       "        vertical-align: top;\n",
       "    }\n",
       "\n",
       "    .dataframe thead th {\n",
       "        text-align: right;\n",
       "    }\n",
       "</style>\n",
       "<table border=\"1\" class=\"dataframe\">\n",
       "  <thead>\n",
       "    <tr style=\"text-align: right;\">\n",
       "      <th></th>\n",
       "      <th>user</th>\n",
       "      <th>item</th>\n",
       "      <th>rating</th>\n",
       "      <th>UFeature0</th>\n",
       "      <th>UFeature1</th>\n",
       "      <th>UFeature2</th>\n",
       "      <th>UFeature3</th>\n",
       "      <th>UFeature4</th>\n",
       "      <th>UFeature5</th>\n",
       "      <th>UFeature6</th>\n",
       "      <th>...</th>\n",
       "      <th>CFeature6</th>\n",
       "      <th>CFeature7</th>\n",
       "      <th>CFeature8</th>\n",
       "      <th>CFeature9</th>\n",
       "      <th>CFeature10</th>\n",
       "      <th>CFeature11</th>\n",
       "      <th>CFeature12</th>\n",
       "      <th>CFeature13</th>\n",
       "      <th>CFeature14</th>\n",
       "      <th>CFeature15</th>\n",
       "    </tr>\n",
       "  </thead>\n",
       "  <tbody>\n",
       "    <tr>\n",
       "      <th>0</th>\n",
       "      <td>1889878</td>\n",
       "      <td>CC0101EN</td>\n",
       "      <td>5</td>\n",
       "      <td>0.080721</td>\n",
       "      <td>-0.129561</td>\n",
       "      <td>0.087998</td>\n",
       "      <td>0.030231</td>\n",
       "      <td>0.082691</td>\n",
       "      <td>-0.004176</td>\n",
       "      <td>-0.003480</td>\n",
       "      <td>...</td>\n",
       "      <td>-0.015081</td>\n",
       "      <td>-0.012229</td>\n",
       "      <td>0.015686</td>\n",
       "      <td>0.008401</td>\n",
       "      <td>-0.035495</td>\n",
       "      <td>0.009381</td>\n",
       "      <td>-0.032560</td>\n",
       "      <td>-0.007292</td>\n",
       "      <td>0.000966</td>\n",
       "      <td>-0.006218</td>\n",
       "    </tr>\n",
       "    <tr>\n",
       "      <th>1</th>\n",
       "      <td>1342067</td>\n",
       "      <td>CL0101EN</td>\n",
       "      <td>3</td>\n",
       "      <td>0.068047</td>\n",
       "      <td>-0.112781</td>\n",
       "      <td>0.045208</td>\n",
       "      <td>-0.007570</td>\n",
       "      <td>-0.038382</td>\n",
       "      <td>0.068037</td>\n",
       "      <td>0.114949</td>\n",
       "      <td>...</td>\n",
       "      <td>0.010899</td>\n",
       "      <td>-0.037610</td>\n",
       "      <td>-0.019397</td>\n",
       "      <td>-0.025682</td>\n",
       "      <td>-0.000620</td>\n",
       "      <td>0.038803</td>\n",
       "      <td>0.000196</td>\n",
       "      <td>-0.045343</td>\n",
       "      <td>0.012863</td>\n",
       "      <td>0.019429</td>\n",
       "    </tr>\n",
       "    <tr>\n",
       "      <th>2</th>\n",
       "      <td>1990814</td>\n",
       "      <td>ML0120ENv3</td>\n",
       "      <td>5</td>\n",
       "      <td>0.124623</td>\n",
       "      <td>0.012910</td>\n",
       "      <td>-0.072627</td>\n",
       "      <td>0.049935</td>\n",
       "      <td>0.020158</td>\n",
       "      <td>0.133306</td>\n",
       "      <td>-0.035366</td>\n",
       "      <td>...</td>\n",
       "      <td>-0.012695</td>\n",
       "      <td>0.036138</td>\n",
       "      <td>0.019965</td>\n",
       "      <td>0.018686</td>\n",
       "      <td>-0.010450</td>\n",
       "      <td>-0.050011</td>\n",
       "      <td>0.013845</td>\n",
       "      <td>-0.044454</td>\n",
       "      <td>-0.001480</td>\n",
       "      <td>-0.007559</td>\n",
       "    </tr>\n",
       "    <tr>\n",
       "      <th>3</th>\n",
       "      <td>380098</td>\n",
       "      <td>BD0211EN</td>\n",
       "      <td>5</td>\n",
       "      <td>-0.034870</td>\n",
       "      <td>0.000715</td>\n",
       "      <td>0.077406</td>\n",
       "      <td>0.070311</td>\n",
       "      <td>-0.043007</td>\n",
       "      <td>-0.035446</td>\n",
       "      <td>0.032846</td>\n",
       "      <td>...</td>\n",
       "      <td>-0.005700</td>\n",
       "      <td>-0.006068</td>\n",
       "      <td>-0.005792</td>\n",
       "      <td>-0.023036</td>\n",
       "      <td>0.015999</td>\n",
       "      <td>-0.023480</td>\n",
       "      <td>0.015469</td>\n",
       "      <td>0.022221</td>\n",
       "      <td>-0.023115</td>\n",
       "      <td>-0.001785</td>\n",
       "    </tr>\n",
       "    <tr>\n",
       "      <th>4</th>\n",
       "      <td>779563</td>\n",
       "      <td>DS0101EN</td>\n",
       "      <td>3</td>\n",
       "      <td>0.106414</td>\n",
       "      <td>-0.001887</td>\n",
       "      <td>-0.017211</td>\n",
       "      <td>-0.042277</td>\n",
       "      <td>-0.074953</td>\n",
       "      <td>-0.056732</td>\n",
       "      <td>0.074610</td>\n",
       "      <td>...</td>\n",
       "      <td>-0.010015</td>\n",
       "      <td>-0.001514</td>\n",
       "      <td>-0.017598</td>\n",
       "      <td>0.003590</td>\n",
       "      <td>0.016799</td>\n",
       "      <td>0.002732</td>\n",
       "      <td>0.005162</td>\n",
       "      <td>0.015031</td>\n",
       "      <td>-0.000877</td>\n",
       "      <td>-0.021283</td>\n",
       "    </tr>\n",
       "  </tbody>\n",
       "</table>\n",
       "<p>5 rows × 35 columns</p>\n",
       "</div>"
      ],
      "text/plain": [
       "      user        item  rating  UFeature0  UFeature1  UFeature2  UFeature3  \\\n",
       "0  1889878    CC0101EN       5   0.080721  -0.129561   0.087998   0.030231   \n",
       "1  1342067    CL0101EN       3   0.068047  -0.112781   0.045208  -0.007570   \n",
       "2  1990814  ML0120ENv3       5   0.124623   0.012910  -0.072627   0.049935   \n",
       "3   380098    BD0211EN       5  -0.034870   0.000715   0.077406   0.070311   \n",
       "4   779563    DS0101EN       3   0.106414  -0.001887  -0.017211  -0.042277   \n",
       "\n",
       "   UFeature4  UFeature5  UFeature6  ...  CFeature6  CFeature7  CFeature8  \\\n",
       "0   0.082691  -0.004176  -0.003480  ...  -0.015081  -0.012229   0.015686   \n",
       "1  -0.038382   0.068037   0.114949  ...   0.010899  -0.037610  -0.019397   \n",
       "2   0.020158   0.133306  -0.035366  ...  -0.012695   0.036138   0.019965   \n",
       "3  -0.043007  -0.035446   0.032846  ...  -0.005700  -0.006068  -0.005792   \n",
       "4  -0.074953  -0.056732   0.074610  ...  -0.010015  -0.001514  -0.017598   \n",
       "\n",
       "   CFeature9  CFeature10  CFeature11  CFeature12  CFeature13  CFeature14  \\\n",
       "0   0.008401   -0.035495    0.009381   -0.032560   -0.007292    0.000966   \n",
       "1  -0.025682   -0.000620    0.038803    0.000196   -0.045343    0.012863   \n",
       "2   0.018686   -0.010450   -0.050011    0.013845   -0.044454   -0.001480   \n",
       "3  -0.023036    0.015999   -0.023480    0.015469    0.022221   -0.023115   \n",
       "4   0.003590    0.016799    0.002732    0.005162    0.015031   -0.000877   \n",
       "\n",
       "   CFeature15  \n",
       "0   -0.006218  \n",
       "1    0.019429  \n",
       "2   -0.007559  \n",
       "3   -0.001785  \n",
       "4   -0.021283  \n",
       "\n",
       "[5 rows x 35 columns]"
      ]
     },
     "execution_count": 11,
     "metadata": {},
     "output_type": "execute_result"
    }
   ],
   "source": [
    "merged_df.head()"
   ]
  },
  {
   "cell_type": "markdown",
   "id": "96e04a93-b6da-476a-af41-c0a8b7d4814a",
   "metadata": {},
   "source": [
    "Each user's embedding features and each item's embedding features are added to the dataset. Next, we perform element-wise add the user features (the column labels starting with `UFeature`) and item features (the column labels starting with `CFeature`).\n"
   ]
  },
  {
   "cell_type": "code",
   "execution_count": 12,
   "id": "a3897427-36d2-455f-b8fe-dc7b3e9f500a",
   "metadata": {},
   "outputs": [
    {
     "data": {
      "application/vnd.microsoft.datawrangler.viewer.v0+json": {
       "columns": [
        {
         "name": "index",
         "rawType": "int64",
         "type": "integer"
        },
        {
         "name": "Feature0",
         "rawType": "float64",
         "type": "float"
        },
        {
         "name": "Feature1",
         "rawType": "float64",
         "type": "float"
        },
        {
         "name": "Feature2",
         "rawType": "float64",
         "type": "float"
        },
        {
         "name": "Feature3",
         "rawType": "float64",
         "type": "float"
        },
        {
         "name": "Feature4",
         "rawType": "float64",
         "type": "float"
        },
        {
         "name": "Feature5",
         "rawType": "float64",
         "type": "float"
        },
        {
         "name": "Feature6",
         "rawType": "float64",
         "type": "float"
        },
        {
         "name": "Feature7",
         "rawType": "float64",
         "type": "float"
        },
        {
         "name": "Feature8",
         "rawType": "float64",
         "type": "float"
        },
        {
         "name": "Feature9",
         "rawType": "float64",
         "type": "float"
        },
        {
         "name": "Feature10",
         "rawType": "float64",
         "type": "float"
        },
        {
         "name": "Feature11",
         "rawType": "float64",
         "type": "float"
        },
        {
         "name": "Feature12",
         "rawType": "float64",
         "type": "float"
        },
        {
         "name": "Feature13",
         "rawType": "float64",
         "type": "float"
        },
        {
         "name": "Feature14",
         "rawType": "float64",
         "type": "float"
        },
        {
         "name": "Feature15",
         "rawType": "float64",
         "type": "float"
        },
        {
         "name": "rating",
         "rawType": "int64",
         "type": "integer"
        }
       ],
       "ref": "2867a6e8-8408-4987-9a05-b927edca3897",
       "rows": [
        [
         "0",
         "0.09037769500000001",
         "-0.1347988386",
         "0.0838999416",
         "0.046533823",
         "0.077416909",
         "-0.0045371818500000004",
         "-0.0185614268",
         "0.079235601",
         "-0.024560993",
         "0.027359398",
         "-0.188822885",
         "-0.08076156899999999",
         "0.05027075",
         "-0.0660128805",
         "0.0588942988",
         "-0.0076893523000000005",
         "5"
        ],
        [
         "1",
         "0.059436607999999995",
         "-0.08474002",
         "0.06710702",
         "-0.0090357725",
         "-0.031482118",
         "0.05005667999999999",
         "0.125847299",
         "0.06651711599999999",
         "-0.053798072",
         "-0.0216711872",
         "0.0642115071",
         "0.204659504",
         "-0.00418804677",
         "0.00791397",
         "0.027170261",
         "0.076113596",
         "3"
        ],
        [
         "2",
         "0.152061455",
         "-0.014739078",
         "-0.080111576",
         "-0.009515660999999995",
         "0.0241297243",
         "0.15380186399999998",
         "-0.048061078",
         "-0.119888157",
         "0.059233668",
         "0.060881538",
         "0.004244383000000001",
         "-0.165999862",
         "0.045002203",
         "0.057566490000000005",
         "-0.022080807100000002",
         "0.1089291387",
         "5"
        ],
        [
         "3",
         "-0.014707099999999997",
         "-0.01125702295",
         "0.073692003",
         "0.054763215000000004",
         "-0.05054657",
         "-0.020598719",
         "0.027146345",
         "-0.0670124606",
         "0.10659265030000001",
         "-0.0209214961",
         "0.10665818099999999",
         "-0.09202474999999999",
         "0.024436059",
         "0.086182834",
         "0.029232221",
         "0.0162870214",
         "5"
        ],
        [
         "4",
         "0.112812457",
         "-0.00139535203",
         "-0.011571867",
         "-0.032638121000000006",
         "-0.0804404784",
         "-0.0573214875",
         "0.064594867",
         "-0.020880490999999998",
         "-0.048938881999999996",
         "0.0684864518",
         "-0.031359042000000004",
         "-0.044576956",
         "-0.0023814989",
         "0.025504664",
         "-0.033163964500000004",
         "-0.10526596",
         "3"
        ]
       ],
       "shape": {
        "columns": 17,
        "rows": 5
       }
      },
      "text/html": [
       "<div>\n",
       "<style scoped>\n",
       "    .dataframe tbody tr th:only-of-type {\n",
       "        vertical-align: middle;\n",
       "    }\n",
       "\n",
       "    .dataframe tbody tr th {\n",
       "        vertical-align: top;\n",
       "    }\n",
       "\n",
       "    .dataframe thead th {\n",
       "        text-align: right;\n",
       "    }\n",
       "</style>\n",
       "<table border=\"1\" class=\"dataframe\">\n",
       "  <thead>\n",
       "    <tr style=\"text-align: right;\">\n",
       "      <th></th>\n",
       "      <th>Feature0</th>\n",
       "      <th>Feature1</th>\n",
       "      <th>Feature2</th>\n",
       "      <th>Feature3</th>\n",
       "      <th>Feature4</th>\n",
       "      <th>Feature5</th>\n",
       "      <th>Feature6</th>\n",
       "      <th>Feature7</th>\n",
       "      <th>Feature8</th>\n",
       "      <th>Feature9</th>\n",
       "      <th>Feature10</th>\n",
       "      <th>Feature11</th>\n",
       "      <th>Feature12</th>\n",
       "      <th>Feature13</th>\n",
       "      <th>Feature14</th>\n",
       "      <th>Feature15</th>\n",
       "      <th>rating</th>\n",
       "    </tr>\n",
       "  </thead>\n",
       "  <tbody>\n",
       "    <tr>\n",
       "      <th>0</th>\n",
       "      <td>0.090378</td>\n",
       "      <td>-0.134799</td>\n",
       "      <td>0.083900</td>\n",
       "      <td>0.046534</td>\n",
       "      <td>0.077417</td>\n",
       "      <td>-0.004537</td>\n",
       "      <td>-0.018561</td>\n",
       "      <td>0.079236</td>\n",
       "      <td>-0.024561</td>\n",
       "      <td>0.027359</td>\n",
       "      <td>-0.188823</td>\n",
       "      <td>-0.080762</td>\n",
       "      <td>0.050271</td>\n",
       "      <td>-0.066013</td>\n",
       "      <td>0.058894</td>\n",
       "      <td>-0.007689</td>\n",
       "      <td>5</td>\n",
       "    </tr>\n",
       "    <tr>\n",
       "      <th>1</th>\n",
       "      <td>0.059437</td>\n",
       "      <td>-0.084740</td>\n",
       "      <td>0.067107</td>\n",
       "      <td>-0.009036</td>\n",
       "      <td>-0.031482</td>\n",
       "      <td>0.050057</td>\n",
       "      <td>0.125847</td>\n",
       "      <td>0.066517</td>\n",
       "      <td>-0.053798</td>\n",
       "      <td>-0.021671</td>\n",
       "      <td>0.064212</td>\n",
       "      <td>0.204660</td>\n",
       "      <td>-0.004188</td>\n",
       "      <td>0.007914</td>\n",
       "      <td>0.027170</td>\n",
       "      <td>0.076114</td>\n",
       "      <td>3</td>\n",
       "    </tr>\n",
       "    <tr>\n",
       "      <th>2</th>\n",
       "      <td>0.152061</td>\n",
       "      <td>-0.014739</td>\n",
       "      <td>-0.080112</td>\n",
       "      <td>-0.009516</td>\n",
       "      <td>0.024130</td>\n",
       "      <td>0.153802</td>\n",
       "      <td>-0.048061</td>\n",
       "      <td>-0.119888</td>\n",
       "      <td>0.059234</td>\n",
       "      <td>0.060882</td>\n",
       "      <td>0.004244</td>\n",
       "      <td>-0.166000</td>\n",
       "      <td>0.045002</td>\n",
       "      <td>0.057566</td>\n",
       "      <td>-0.022081</td>\n",
       "      <td>0.108929</td>\n",
       "      <td>5</td>\n",
       "    </tr>\n",
       "    <tr>\n",
       "      <th>3</th>\n",
       "      <td>-0.014707</td>\n",
       "      <td>-0.011257</td>\n",
       "      <td>0.073692</td>\n",
       "      <td>0.054763</td>\n",
       "      <td>-0.050547</td>\n",
       "      <td>-0.020599</td>\n",
       "      <td>0.027146</td>\n",
       "      <td>-0.067012</td>\n",
       "      <td>0.106593</td>\n",
       "      <td>-0.020921</td>\n",
       "      <td>0.106658</td>\n",
       "      <td>-0.092025</td>\n",
       "      <td>0.024436</td>\n",
       "      <td>0.086183</td>\n",
       "      <td>0.029232</td>\n",
       "      <td>0.016287</td>\n",
       "      <td>5</td>\n",
       "    </tr>\n",
       "    <tr>\n",
       "      <th>4</th>\n",
       "      <td>0.112812</td>\n",
       "      <td>-0.001395</td>\n",
       "      <td>-0.011572</td>\n",
       "      <td>-0.032638</td>\n",
       "      <td>-0.080440</td>\n",
       "      <td>-0.057321</td>\n",
       "      <td>0.064595</td>\n",
       "      <td>-0.020880</td>\n",
       "      <td>-0.048939</td>\n",
       "      <td>0.068486</td>\n",
       "      <td>-0.031359</td>\n",
       "      <td>-0.044577</td>\n",
       "      <td>-0.002381</td>\n",
       "      <td>0.025505</td>\n",
       "      <td>-0.033164</td>\n",
       "      <td>-0.105266</td>\n",
       "      <td>3</td>\n",
       "    </tr>\n",
       "  </tbody>\n",
       "</table>\n",
       "</div>"
      ],
      "text/plain": [
       "   Feature0  Feature1  Feature2  Feature3  Feature4  Feature5  Feature6  \\\n",
       "0  0.090378 -0.134799  0.083900  0.046534  0.077417 -0.004537 -0.018561   \n",
       "1  0.059437 -0.084740  0.067107 -0.009036 -0.031482  0.050057  0.125847   \n",
       "2  0.152061 -0.014739 -0.080112 -0.009516  0.024130  0.153802 -0.048061   \n",
       "3 -0.014707 -0.011257  0.073692  0.054763 -0.050547 -0.020599  0.027146   \n",
       "4  0.112812 -0.001395 -0.011572 -0.032638 -0.080440 -0.057321  0.064595   \n",
       "\n",
       "   Feature7  Feature8  Feature9  Feature10  Feature11  Feature12  Feature13  \\\n",
       "0  0.079236 -0.024561  0.027359  -0.188823  -0.080762   0.050271  -0.066013   \n",
       "1  0.066517 -0.053798 -0.021671   0.064212   0.204660  -0.004188   0.007914   \n",
       "2 -0.119888  0.059234  0.060882   0.004244  -0.166000   0.045002   0.057566   \n",
       "3 -0.067012  0.106593 -0.020921   0.106658  -0.092025   0.024436   0.086183   \n",
       "4 -0.020880 -0.048939  0.068486  -0.031359  -0.044577  -0.002381   0.025505   \n",
       "\n",
       "   Feature14  Feature15  rating  \n",
       "0   0.058894  -0.007689       5  \n",
       "1   0.027170   0.076114       3  \n",
       "2  -0.022081   0.108929       5  \n",
       "3   0.029232   0.016287       5  \n",
       "4  -0.033164  -0.105266       3  "
      ]
     },
     "execution_count": 12,
     "metadata": {},
     "output_type": "execute_result"
    }
   ],
   "source": [
    "u_feautres = [f\"UFeature{i}\" for i in range(16)] # Assuming there are 16 user embedding features\n",
    "c_features = [f\"CFeature{i}\" for i in range(16)] # Assuming there are 16 course embedding features\n",
    "# Extract user embedding features\n",
    "user_embeddings = merged_df[u_feautres]\n",
    "# Extract course embedding features\n",
    "course_embeddings = merged_df[c_features]\n",
    "# Extract ratings\n",
    "ratings = merged_df['rating']\n",
    "\n",
    "# Aggregate the two feature columns using element-wise add\n",
    "interaction_dataset = user_embeddings + course_embeddings.values\n",
    "# Rename the columns of the resulting DataFrame\n",
    "interaction_dataset.columns = [f\"Feature{i}\" for i in range(16)]\n",
    "# Add the 'rating' column from the original DataFrame to the regression dataset\n",
    "interaction_dataset['rating'] = ratings\n",
    "# Display the first few rows of the regression dataset\n",
    "interaction_dataset.head()"
   ]
  },
  {
   "cell_type": "markdown",
   "id": "e2c90959-0815-4fa1-8041-5a06b1d703d5",
   "metadata": {},
   "source": [
    "Next, let's use `LabelEncoder()` to encode our `rating` label to be categorical:\n"
   ]
  },
  {
   "cell_type": "code",
   "execution_count": 13,
   "metadata": {},
   "outputs": [
    {
     "data": {
      "text/plain": [
       "array([5, 3, 4])"
      ]
     },
     "execution_count": 13,
     "metadata": {},
     "output_type": "execute_result"
    }
   ],
   "source": [
    "ratings.unique()"
   ]
  },
  {
   "cell_type": "code",
   "execution_count": 14,
   "id": "314cbe98-ffbd-4483-802a-3a0c851bc4b3",
   "metadata": {},
   "outputs": [],
   "source": [
    "# Extract features (X) from the interaction_dataset DataFrame\n",
    "# Selects all rows and all columns except the last column (features)\n",
    "X = interaction_dataset.iloc[:, :-1]\n",
    "# Extract the target variable (y_raw) from the interaction_dataset DataFrame\n",
    "# Selects all rows and only the last column (target variable)\n",
    "y_raw = interaction_dataset.iloc[:, -1]\n",
    "# Initialize a LabelEncoder object to encode the target variable\n",
    "label_encoder = LabelEncoder()\n",
    "# Encode the target variable (y_raw) using the LabelEncoder\n",
    "# .values.ravel() converts the target variable to a flattened array before encoding\n",
    "# The LabelEncoder fits and transforms the target variable, assigning encoded labels to y\n",
    "y = label_encoder.fit_transform(y_raw.values.ravel())"
   ]
  },
  {
   "cell_type": "markdown",
   "id": "3419b732-fb8c-4185-bb0e-a2a19b2fbd0a",
   "metadata": {},
   "source": [
    "and split X and y into training and testing dataset:\n"
   ]
  },
  {
   "cell_type": "code",
   "execution_count": 15,
   "id": "8e190c18-f390-4068-9a98-88ff72aec73e",
   "metadata": {},
   "outputs": [],
   "source": [
    "X_train, X_test, y_train, y_test = train_test_split(X, y, test_size=0.2, random_state=rs)"
   ]
  },
  {
   "cell_type": "code",
   "execution_count": 16,
   "id": "cb8b8b14-1dba-4c88-9c2e-2e7ce99bced3",
   "metadata": {},
   "outputs": [
    {
     "name": "stdout",
     "output_type": "stream",
     "text": [
      "Input data shape: (233306, 16), Output data shape: (233306,)\n"
     ]
    }
   ],
   "source": [
    "print(f\"Input data shape: {X.shape}, Output data shape: {y.shape}\")"
   ]
  },
  {
   "cell_type": "markdown",
   "id": "4eec2041-2d97-4d76-a381-d6e4cb2a01c4",
   "metadata": {},
   "source": [
    "## TASK: Perform classification tasks on the interaction dataset\n"
   ]
  },
  {
   "cell_type": "markdown",
   "id": "91e705dc-9431-4146-945f-f11fc9882ab4",
   "metadata": {},
   "source": [
    "Now our input data `X` and output label `y` is ready, let's build classification models to map `X` to `y`\n"
   ]
  },
  {
   "cell_type": "markdown",
   "id": "65dd4567-1782-4129-9951-9c9593c3001e",
   "metadata": {},
   "source": [
    "You may use `sklearn` to train and evaluate various regression models.\n"
   ]
  },
  {
   "cell_type": "markdown",
   "id": "d20fc20a-c561-48d6-a61f-21b77c8d400b",
   "metadata": {},
   "source": [
    "_TODO: Define classification models such as Logistic Regression, Tree models, SVM, Bagging, and Boosting models_\n"
   ]
  },
  {
   "cell_type": "code",
   "execution_count": 17,
   "metadata": {},
   "outputs": [
    {
     "data": {
      "application/vnd.microsoft.datawrangler.viewer.v0+json": {
       "columns": [
        {
         "name": "index",
         "rawType": "int64",
         "type": "integer"
        },
        {
         "name": "proportion",
         "rawType": "float64",
         "type": "float"
        }
       ],
       "ref": "af754d95-de54-4eca-b11a-93033ba85213",
       "rows": [
        [
         "1",
         "0.33405056020848156"
        ],
        [
         "0",
         "0.3337505250615072"
        ],
        [
         "2",
         "0.33219891473001123"
        ]
       ],
       "shape": {
        "columns": 1,
        "rows": 3
       }
      },
      "text/plain": [
       "1    0.334051\n",
       "0    0.333751\n",
       "2    0.332199\n",
       "Name: proportion, dtype: float64"
      ]
     },
     "execution_count": 17,
     "metadata": {},
     "output_type": "execute_result"
    }
   ],
   "source": [
    "pd.Series(y).value_counts(normalize=True)"
   ]
  },
  {
   "cell_type": "code",
   "execution_count": 18,
   "id": "cf91da62-b281-4590-8cc8-50ed42a00fab",
   "metadata": {},
   "outputs": [
    {
     "name": "stdout",
     "output_type": "stream",
     "text": [
      "              precision    recall  f1-score   support\n",
      "\n",
      "           0       1.00      0.33      0.49     46662\n",
      "           1       0.00      0.00      0.00         0\n",
      "           2       0.00      0.00      0.00         0\n",
      "\n",
      "    accuracy                           0.33     46662\n",
      "   macro avg       0.33      0.11      0.16     46662\n",
      "weighted avg       1.00      0.33      0.49     46662\n",
      "\n",
      "RMSE: 1.2901309516319126\n"
     ]
    },
    {
     "name": "stderr",
     "output_type": "stream",
     "text": [
      "/home/utils/miniconda3/envs/shahed3128/lib/python3.12/site-packages/sklearn/linear_model/_logistic.py:1264: FutureWarning: 'multi_class' was deprecated in version 1.5 and will be removed in 1.7. From then on, it will always use 'multinomial'. Leave it to its default value to avoid this warning.\n",
      "  warnings.warn(\n",
      "/home/utils/miniconda3/envs/shahed3128/lib/python3.12/site-packages/sklearn/metrics/_classification.py:1706: UndefinedMetricWarning: Recall is ill-defined and being set to 0.0 in labels with no true samples. Use `zero_division` parameter to control this behavior.\n",
      "  _warn_prf(average, modifier, f\"{metric.capitalize()} is\", result.shape[0])\n",
      "/home/utils/miniconda3/envs/shahed3128/lib/python3.12/site-packages/sklearn/metrics/_classification.py:1706: UndefinedMetricWarning: Recall is ill-defined and being set to 0.0 in labels with no true samples. Use `zero_division` parameter to control this behavior.\n",
      "  _warn_prf(average, modifier, f\"{metric.capitalize()} is\", result.shape[0])\n",
      "/home/utils/miniconda3/envs/shahed3128/lib/python3.12/site-packages/sklearn/metrics/_classification.py:1706: UndefinedMetricWarning: Recall is ill-defined and being set to 0.0 in labels with no true samples. Use `zero_division` parameter to control this behavior.\n",
      "  _warn_prf(average, modifier, f\"{metric.capitalize()} is\", result.shape[0])\n"
     ]
    }
   ],
   "source": [
    "### WRITE YOUR CODE HERE\n",
    "from sklearn.metrics import classification_report\n",
    "from sklearn.linear_model import LogisticRegression\n",
    "import numpy as np\n",
    "from sklearn.metrics import mean_squared_error\n",
    "# Build a logistic regression model\n",
    "class_weight = {}\n",
    "\n",
    "# Assign weight of class 0 from prev cell\n",
    "class_weight[0] = 0.33\n",
    "class_weight[1] = 0.33\n",
    "class_weight[2] = 0.33\n",
    "model_lr = LogisticRegression(penalty = 'l2',\n",
    "                              random_state=rs, \n",
    "                              max_iter = 1000,\n",
    "                              class_weight=class_weight,\n",
    "                              multi_class='multinomial', \n",
    "                              solver='lbfgs')\n",
    "threshold = 0.5\n",
    "# Train the model\n",
    "model_lr.fit(X_train, y_train)\n",
    "# If predicted probability is largr than threshold (default value is 0.5), generate a positive label\n",
    "predicted_proba = model_lr.predict_proba(X_test)\n",
    "yp_lr = (predicted_proba [:,1] >= threshold).astype('int')\n",
    "\n",
    "\n",
    "print(classification_report(yp_lr, y_test))\n",
    "print('RMSE:',np.sqrt(mean_squared_error(yp_lr,y_test)))"
   ]
  },
  {
   "cell_type": "markdown",
   "id": "45122bb7-ef29-4f96-878d-e48258338d2b",
   "metadata": {},
   "source": [
    "<details>\n",
    "    <summary>Click here for Hints </summary>\n",
    "    \n",
    "For Example: you can call `RandomForestClassifier()` to define your model, don't forget to specify `max_depth= ..`  and `random_state=rs` in the parameters.\n"
   ]
  },
  {
   "cell_type": "markdown",
   "id": "b29e122b-beaa-4254-8416-369fa32eeaef",
   "metadata": {},
   "source": [
    "_TODO: Train your classification models with training data_\n"
   ]
  },
  {
   "cell_type": "code",
   "execution_count": null,
   "id": "b2b27793-4ccc-4bc9-8862-31839759a3a7",
   "metadata": {},
   "outputs": [],
   "source": [
    "### WRITE YOUR CODE HERE\n",
    "### You may need to tune the hyperparameters of the models\n",
    "\n",
    "from sklearn.ensemble import StackingClassifier\n",
    "from sklearn.svm import SVC\n",
    "from sklearn.neighbors import KNeighborsClassifier\n",
    "from sklearn.tree import DecisionTreeClassifier\n",
    "from sklearn.linear_model import LogisticRegression # Default final estimator\n",
    "\n",
    "# Define the base estimators with adjusted parameters and n_jobs\n",
    "estimators = [\n",
    "    ('SVM', SVC(random_state=42, C=1.0)), # Adjust C for SVC if needed\n",
    "    ('KNN', KNeighborsClassifier(n_neighbors=5, n_jobs=-1)), # Parallelize KNN\n",
    "    ('dt', DecisionTreeClassifier(max_depth=5, random_state=42)) # Limit depth for Decision Tree\n",
    "]\n",
    "\n",
    "# Create the StackingClassifier with optimizations\n",
    "clf = StackingClassifier(\n",
    "    estimators=estimators,\n",
    "    final_estimator=LogisticRegression(solver='liblinear', random_state=42, n_jobs=-1), # Optimize LogisticRegression\n",
    "    cv=3, # Reduce cross-validation folds\n",
    "    n_jobs=-1 # Parallelize the base estimator training\n",
    ")\n",
    "\n",
    "# Fit the model (assuming X_train and y_train are defined)\n",
    "clf.fit(X_train, y_train)\n",
    "\n",
    "# Make predictions\n",
    "preds_clf = clf.predict(X_test)"
   ]
  },
  {
   "cell_type": "markdown",
   "id": "f933d14c-572c-4221-95a7-3394519e2adf",
   "metadata": {},
   "source": [
    "<details>\n",
    "    <summary>Click here for Hints</summary>\n",
    "    \n",
    "You can call `model.fit()` method with `X_train, y_train` parameters.\n"
   ]
  },
  {
   "cell_type": "markdown",
   "id": "d2719e3a-46ff-4343-a288-2c14112c3a60",
   "metadata": {},
   "source": [
    "_TODO: Evaluate your classification models_\n"
   ]
  },
  {
   "cell_type": "code",
   "execution_count": null,
   "id": "54acc4e9-a87c-40ce-8c01-0430ca291fad",
   "metadata": {},
   "outputs": [],
   "source": [
    "### WRITE YOUR CODE HERE\n",
    "\n",
    "### The main evaluation metrics could be accuracy, recall, precision, F score, and AUC.\n",
    "import numpy as np\n",
    "from sklearn.metrics import mean_squared_error\n",
    "print(classification_report(preds_clf, y_test))\n",
    "\n",
    "print('RMSE:',np.sqrt(mean_squared_error(preds_clf,y_test)))\n"
   ]
  },
  {
   "cell_type": "markdown",
   "id": "82e96254-c8cb-44cd-a67a-42c9004f6d78",
   "metadata": {},
   "source": [
    "<details>\n",
    "    <summary>Click here for Hints</summary>\n",
    "    \n",
    "You can call `model.predict()` method with `X_test` parameter to get model predictions. Then use `accuracy_score()` with `y_test, your_predictions` parameters to calculate the accuracy value. \n",
    "* You can use `precision_recall_fscore_support` command  with `y_test, your_predictions, average='binary'` parameters get recall, precision and F score.\n",
    "    \n"
   ]
  },
  {
   "cell_type": "markdown",
   "id": "96527204-f9d7-4494-b7f5-c58888129cf9",
   "metadata": {},
   "source": [
    "### Summary\n"
   ]
  },
  {
   "cell_type": "markdown",
   "id": "37344455-9bf6-4b6b-b854-8f8e46b9e268",
   "metadata": {},
   "source": [
    "In this lab, you have built and evaluated various classification models to predict categorical course rating modes using the embedding feature vectors extracted from neural networks.\n"
   ]
  },
  {
   "cell_type": "markdown",
   "id": "834d7391-1517-4635-bb98-f75073ee7d39",
   "metadata": {},
   "source": [
    "## Authors\n"
   ]
  },
  {
   "cell_type": "markdown",
   "id": "8a2922bf-1a5b-43e0-8521-63734f6ce6cf",
   "metadata": {},
   "source": [
    "[Yan Luo](https://www.linkedin.com/in/yan-luo-96288783/)\n"
   ]
  },
  {
   "cell_type": "markdown",
   "id": "1712a4dd-9352-42a0-86d5-5a1164ddc04d",
   "metadata": {},
   "source": [
    "### Other Contributors\n"
   ]
  },
  {
   "cell_type": "markdown",
   "id": "cae374d3-c025-4926-8642-297668647f28",
   "metadata": {},
   "source": [
    "```toggle## Change Log\n",
    "```\n"
   ]
  },
  {
   "cell_type": "markdown",
   "id": "b91914e4-6044-471b-894a-a90a34695765",
   "metadata": {},
   "source": [
    "```toggle|Date (YYYY-MM-DD)|Version|Changed By|Change Description|\n",
    "```\n",
    "```toggle|-|-|-|-|\n",
    "```\n",
    "```toggle|2021-10-25|1.0|Yan|Created the initial version|\n",
    "```\n"
   ]
  },
  {
   "cell_type": "markdown",
   "id": "c4197a66-e532-479c-bdd2-4192f7fa01f1",
   "metadata": {},
   "source": [
    "Copyright © 2021 IBM Corporation. All rights reserved.\n"
   ]
  }
 ],
 "metadata": {
  "kernelspec": {
   "display_name": "Python(shahed3128)",
   "language": "python",
   "name": "shahed3128"
  },
  "language_info": {
   "codemirror_mode": {
    "name": "ipython",
    "version": 3
   },
   "file_extension": ".py",
   "mimetype": "text/x-python",
   "name": "python",
   "nbconvert_exporter": "python",
   "pygments_lexer": "ipython3",
   "version": "3.12.8"
  },
  "prev_pub_hash": "7710e8f9242ac13ac28383d0661dad72ee16ef475255d9cb9142fe4931f3f2a9"
 },
 "nbformat": 4,
 "nbformat_minor": 4
}
